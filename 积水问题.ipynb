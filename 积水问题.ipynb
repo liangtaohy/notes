{
 "cells": [
  {
   "cell_type": "markdown",
   "metadata": {},
   "source": [
    "## 题目\n",
    "\n",
    "设有楼梯如下图所示：\n",
    "\n",
    "数列表示为`[0,1,0,2,1,0,1,2,0,3,0,2,0,1,0,1,0]`。\n",
    "\n",
    "请问一场大雨过后，雨量为多少？【记一个楼梯为一个】"
   ]
  },
  {
   "cell_type": "markdown",
   "metadata": {},
   "source": [
    "## 第一性原理\n",
    "\n",
    "打眼望去，用数数的方式，数数有几个空就可以了。那么空在数字上表示为什么呢？0.所以，改问题可以转换为数0的问题(不算两头的0，因为两头的空存不住水)。\n",
    "\n",
    "* step1: 数一遍0；\n",
    "* step2: 数列减1；\n",
    "* step3: 继续step1,直到数列中没有大于0的数字存在为止"
   ]
  },
  {
   "cell_type": "code",
   "execution_count": 1,
   "metadata": {},
   "outputs": [],
   "source": [
    "def computer_rainfall(stairs):\n",
    "    \"\"\"计算水量\"\"\"\n",
    "    total = 0\n",
    "\n",
    "    zeros = count_zeros(stairs)\n",
    "    \n",
    "    while zeros > 0:\n",
    "        total += zeros\n",
    "        stairs = [s-1 for s in stairs]\n",
    "        zeros = count_zeros(stairs)\n",
    "    print(total)\n",
    "\n",
    "def count_zeros(stairs):\n",
    "    \"\"\"统计数列中<=0的元素个数，不算两头的\"\"\"\n",
    "    if not stairs:\n",
    "        return 0\n",
    "    \n",
    "    length = len(stairs)\n",
    "    \n",
    "    if length == 0:\n",
    "        return 0\n",
    "    \n",
    "    begin = False\n",
    "    \n",
    "    zeros = 0  # 零的总数\n",
    "    \n",
    "    for s in stairs:  # 从左向右统计\n",
    "        if not begin and s > 0:\n",
    "            begin = True\n",
    "\n",
    "        if begin and s <= 0:\n",
    "            zeros += 1\n",
    "\n",
    "    if zeros > 0:\n",
    "        for i in range(length):  # 从右向左，减去不合法的\n",
    "            if stairs[length-i-1] <= 0:\n",
    "                zeros -= 1\n",
    "            else:\n",
    "                break\n",
    "\n",
    "    return zeros"
   ]
  },
  {
   "cell_type": "code",
   "execution_count": 2,
   "metadata": {},
   "outputs": [
    {
     "name": "stdout",
     "output_type": "stream",
     "text": [
      "11\n"
     ]
    }
   ],
   "source": [
    "computer_rainfall([0,1,0,2,1,0,1,2,0,3,0,2,0,1,0,1,0])"
   ]
  },
  {
   "cell_type": "code",
   "execution_count": null,
   "metadata": {},
   "outputs": [],
   "source": []
  }
 ],
 "metadata": {
  "kernelspec": {
   "display_name": "Python 3",
   "language": "python",
   "name": "python3"
  },
  "language_info": {
   "codemirror_mode": {
    "name": "ipython",
    "version": 3
   },
   "file_extension": ".py",
   "mimetype": "text/x-python",
   "name": "python",
   "nbconvert_exporter": "python",
   "pygments_lexer": "ipython3",
   "version": "3.5.2"
  },
  "widgets": {
   "state": {},
   "version": "1.1.2"
  }
 },
 "nbformat": 4,
 "nbformat_minor": 2
}
